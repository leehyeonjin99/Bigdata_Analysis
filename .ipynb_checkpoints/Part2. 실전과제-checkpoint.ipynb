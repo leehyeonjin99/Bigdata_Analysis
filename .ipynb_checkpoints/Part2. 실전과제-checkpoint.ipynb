{
 "cells": [
  {
   "cell_type": "code",
   "execution_count": 1,
   "metadata": {},
   "outputs": [
    {
     "name": "stderr",
     "output_type": "stream",
     "text": [
      "C:\\Users\\revie\\AppData\\Roaming\\Python\\Python37\\site-packages\\pandas\\compat\\_optional.py:138: UserWarning: Pandas requires version '2.7.0' or newer of 'numexpr' (version '2.6.9' currently installed).\n",
      "  warnings.warn(msg, UserWarning)\n"
     ]
    }
   ],
   "source": [
    "import pandas as pd\n",
    "import numpy as np\n",
    "import matplotlib.pyplot as plt"
   ]
  },
  {
   "cell_type": "markdown",
   "metadata": {},
   "source": [
    "## 6.1 데이터 불러오기 및 탐색"
   ]
  },
  {
   "cell_type": "code",
   "execution_count": 2,
   "metadata": {},
   "outputs": [
    {
     "data": {
      "text/html": [
       "<div>\n",
       "<style scoped>\n",
       "    .dataframe tbody tr th:only-of-type {\n",
       "        vertical-align: middle;\n",
       "    }\n",
       "\n",
       "    .dataframe tbody tr th {\n",
       "        vertical-align: top;\n",
       "    }\n",
       "\n",
       "    .dataframe thead th {\n",
       "        text-align: right;\n",
       "    }\n",
       "</style>\n",
       "<table border=\"1\" class=\"dataframe\">\n",
       "  <thead>\n",
       "    <tr style=\"text-align: right;\">\n",
       "      <th></th>\n",
       "      <th>housing_age</th>\n",
       "      <th>income</th>\n",
       "      <th>bedrooms</th>\n",
       "      <th>households</th>\n",
       "      <th>rooms</th>\n",
       "      <th>house_value</th>\n",
       "    </tr>\n",
       "  </thead>\n",
       "  <tbody>\n",
       "    <tr>\n",
       "      <th>0</th>\n",
       "      <td>23</td>\n",
       "      <td>6.7770</td>\n",
       "      <td>0.141112</td>\n",
       "      <td>2.442244</td>\n",
       "      <td>8.103960</td>\n",
       "      <td>500000</td>\n",
       "    </tr>\n",
       "    <tr>\n",
       "      <th>1</th>\n",
       "      <td>49</td>\n",
       "      <td>6.0199</td>\n",
       "      <td>0.160984</td>\n",
       "      <td>2.726688</td>\n",
       "      <td>5.752412</td>\n",
       "      <td>500000</td>\n",
       "    </tr>\n",
       "    <tr>\n",
       "      <th>2</th>\n",
       "      <td>35</td>\n",
       "      <td>5.1155</td>\n",
       "      <td>0.249061</td>\n",
       "      <td>1.902676</td>\n",
       "      <td>3.888078</td>\n",
       "      <td>500000</td>\n",
       "    </tr>\n",
       "    <tr>\n",
       "      <th>3</th>\n",
       "      <td>32</td>\n",
       "      <td>4.7109</td>\n",
       "      <td>0.231383</td>\n",
       "      <td>1.913669</td>\n",
       "      <td>4.508393</td>\n",
       "      <td>500000</td>\n",
       "    </tr>\n",
       "    <tr>\n",
       "      <th>4</th>\n",
       "      <td>21</td>\n",
       "      <td>4.5625</td>\n",
       "      <td>0.255583</td>\n",
       "      <td>3.092664</td>\n",
       "      <td>4.667954</td>\n",
       "      <td>500000</td>\n",
       "    </tr>\n",
       "  </tbody>\n",
       "</table>\n",
       "</div>"
      ],
      "text/plain": [
       "   housing_age  income  bedrooms  households     rooms  house_value\n",
       "0           23  6.7770  0.141112    2.442244  8.103960       500000\n",
       "1           49  6.0199  0.160984    2.726688  5.752412       500000\n",
       "2           35  5.1155  0.249061    1.902676  3.888078       500000\n",
       "3           32  4.7109  0.231383    1.913669  4.508393       500000\n",
       "4           21  4.5625  0.255583    3.092664  4.667954       500000"
      ]
     },
     "execution_count": 2,
     "metadata": {},
     "output_type": "execute_result"
    }
   ],
   "source": [
    "data=pd.read_csv(\"data/house_raw.csv\")\n",
    "data.head()"
   ]
  },
  {
   "cell_type": "code",
   "execution_count": 4,
   "metadata": {},
   "outputs": [
    {
     "name": "stdout",
     "output_type": "stream",
     "text": [
      "<class 'pandas.core.frame.DataFrame'>\n",
      "RangeIndex: 17914 entries, 0 to 17913\n",
      "Data columns (total 6 columns):\n",
      " #   Column       Non-Null Count  Dtype  \n",
      "---  ------       --------------  -----  \n",
      " 0   housing_age  17914 non-null  int64  \n",
      " 1   income       17914 non-null  float64\n",
      " 2   bedrooms     17914 non-null  float64\n",
      " 3   households   17914 non-null  float64\n",
      " 4   rooms        17914 non-null  float64\n",
      " 5   house_value  17914 non-null  int64  \n",
      "dtypes: float64(4), int64(2)\n",
      "memory usage: 839.8 KB\n"
     ]
    }
   ],
   "source": [
    "# 결측값은 없다\n",
    "data.info()"
   ]
  },
  {
   "cell_type": "code",
   "execution_count": 5,
   "metadata": {},
   "outputs": [
    {
     "data": {
      "text/html": [
       "<div>\n",
       "<style scoped>\n",
       "    .dataframe tbody tr th:only-of-type {\n",
       "        vertical-align: middle;\n",
       "    }\n",
       "\n",
       "    .dataframe tbody tr th {\n",
       "        vertical-align: top;\n",
       "    }\n",
       "\n",
       "    .dataframe thead th {\n",
       "        text-align: right;\n",
       "    }\n",
       "</style>\n",
       "<table border=\"1\" class=\"dataframe\">\n",
       "  <thead>\n",
       "    <tr style=\"text-align: right;\">\n",
       "      <th></th>\n",
       "      <th>housing_age</th>\n",
       "      <th>income</th>\n",
       "      <th>bedrooms</th>\n",
       "      <th>households</th>\n",
       "      <th>rooms</th>\n",
       "      <th>house_value</th>\n",
       "    </tr>\n",
       "  </thead>\n",
       "  <tbody>\n",
       "    <tr>\n",
       "      <th>count</th>\n",
       "      <td>17914.000000</td>\n",
       "      <td>17914.000000</td>\n",
       "      <td>17914.000000</td>\n",
       "      <td>17914.000000</td>\n",
       "      <td>17914.000000</td>\n",
       "      <td>17914.000000</td>\n",
       "    </tr>\n",
       "    <tr>\n",
       "      <th>mean</th>\n",
       "      <td>27.307022</td>\n",
       "      <td>3.664086</td>\n",
       "      <td>0.214309</td>\n",
       "      <td>3.007667</td>\n",
       "      <td>5.370672</td>\n",
       "      <td>188692.620130</td>\n",
       "    </tr>\n",
       "    <tr>\n",
       "      <th>std</th>\n",
       "      <td>11.297204</td>\n",
       "      <td>1.526694</td>\n",
       "      <td>0.055251</td>\n",
       "      <td>4.579534</td>\n",
       "      <td>2.332776</td>\n",
       "      <td>95318.621139</td>\n",
       "    </tr>\n",
       "    <tr>\n",
       "      <th>min</th>\n",
       "      <td>1.000000</td>\n",
       "      <td>0.499900</td>\n",
       "      <td>0.100000</td>\n",
       "      <td>0.692308</td>\n",
       "      <td>0.846154</td>\n",
       "      <td>14999.000000</td>\n",
       "    </tr>\n",
       "    <tr>\n",
       "      <th>25%</th>\n",
       "      <td>18.000000</td>\n",
       "      <td>2.526125</td>\n",
       "      <td>0.177544</td>\n",
       "      <td>2.467031</td>\n",
       "      <td>4.426115</td>\n",
       "      <td>114325.000000</td>\n",
       "    </tr>\n",
       "    <tr>\n",
       "      <th>50%</th>\n",
       "      <td>28.000000</td>\n",
       "      <td>3.447800</td>\n",
       "      <td>0.204256</td>\n",
       "      <td>2.853499</td>\n",
       "      <td>5.199222</td>\n",
       "      <td>170800.000000</td>\n",
       "    </tr>\n",
       "    <tr>\n",
       "      <th>75%</th>\n",
       "      <td>36.000000</td>\n",
       "      <td>4.583300</td>\n",
       "      <td>0.240476</td>\n",
       "      <td>3.318866</td>\n",
       "      <td>5.970848</td>\n",
       "      <td>242100.000000</td>\n",
       "    </tr>\n",
       "    <tr>\n",
       "      <th>max</th>\n",
       "      <td>51.000000</td>\n",
       "      <td>9.905500</td>\n",
       "      <td>1.000000</td>\n",
       "      <td>599.714286</td>\n",
       "      <td>132.533333</td>\n",
       "      <td>500000.000000</td>\n",
       "    </tr>\n",
       "  </tbody>\n",
       "</table>\n",
       "</div>"
      ],
      "text/plain": [
       "        housing_age        income      bedrooms    households         rooms  \\\n",
       "count  17914.000000  17914.000000  17914.000000  17914.000000  17914.000000   \n",
       "mean      27.307022      3.664086      0.214309      3.007667      5.370672   \n",
       "std       11.297204      1.526694      0.055251      4.579534      2.332776   \n",
       "min        1.000000      0.499900      0.100000      0.692308      0.846154   \n",
       "25%       18.000000      2.526125      0.177544      2.467031      4.426115   \n",
       "50%       28.000000      3.447800      0.204256      2.853499      5.199222   \n",
       "75%       36.000000      4.583300      0.240476      3.318866      5.970848   \n",
       "max       51.000000      9.905500      1.000000    599.714286    132.533333   \n",
       "\n",
       "         house_value  \n",
       "count   17914.000000  \n",
       "mean   188692.620130  \n",
       "std     95318.621139  \n",
       "min     14999.000000  \n",
       "25%    114325.000000  \n",
       "50%    170800.000000  \n",
       "75%    242100.000000  \n",
       "max    500000.000000  "
      ]
     },
     "execution_count": 5,
     "metadata": {},
     "output_type": "execute_result"
    }
   ],
   "source": [
    "data.describe()"
   ]
  },
  {
   "cell_type": "code",
   "execution_count": 6,
   "metadata": {},
   "outputs": [
    {
     "data": {
      "text/plain": [
       "array([[<AxesSubplot:title={'center':'housing_age'}>,\n",
       "        <AxesSubplot:title={'center':'income'}>],\n",
       "       [<AxesSubplot:title={'center':'bedrooms'}>,\n",
       "        <AxesSubplot:title={'center':'households'}>],\n",
       "       [<AxesSubplot:title={'center':'rooms'}>,\n",
       "        <AxesSubplot:title={'center':'house_value'}>]], dtype=object)"
      ]
     },
     "execution_count": 6,
     "metadata": {},
     "output_type": "execute_result"
    },
    {
     "data": {
      "image/png": "[encoded data removed]",
      "text/plain": [
       "<Figure size 1440x1080 with 6 Axes>"
      ]
     },
     "metadata": {
      "needs_background": "light"
     },
     "output_type": "display_data"
    }
   ],
   "source": [
    "# bedrooms, households, rooms에 너무 큰 값 존재\n",
    "data.hist(bins=50, figsize=(20,15))"
   ]
  },
  {
   "cell_type": "markdown",
   "metadata": {},
   "source": [
    "## 6.2 선형회귀 적용 (정제 전 데이터)"
   ]
  },
  {
   "cell_type": "code",
   "execution_count": 9,
   "metadata": {},
   "outputs": [],
   "source": [
    "X=data[data.columns[0:5]]\n",
    "y=data[['house_value']]"
   ]
  },
  {
   "cell_type": "code",
   "execution_count": 10,
   "metadata": {},
   "outputs": [],
   "source": [
    "# X, y를 7:3의 비율로 나누어 train set, test set으로 각각 할당\n",
    "from sklearn.model_selection import train_test_split\n",
    "X_train, X_test, y_train, y_test=train_test_split(X,y,random_state=42)"
   ]
  },
  {
   "cell_type": "code",
   "execution_count": 14,
   "metadata": {},
   "outputs": [],
   "source": [
    "#훈련 데이터 및 테스트 데이터의 특성치의 단위를 동일하게 만드는 과정인 정규화 진행\n",
    "from sklearn.preprocessing import MinMaxScaler\n",
    "scaler_minmax=MinMaxScaler()\n",
    "scaler_minmax.fit(X_train)\n",
    "X_scaled_minmax_train=scaler_minmax.transform(X_train)\n",
    "X_scaled_minmax_test=scaler_minmax.transform(X_test)"
   ]
  },
  {
   "cell_type": "code",
   "execution_count": 15,
   "metadata": {},
   "outputs": [
    {
     "data": {
      "text/plain": [
       "LinearRegression()"
      ]
     },
     "execution_count": 15,
     "metadata": {},
     "output_type": "execute_result"
    }
   ],
   "source": [
    "from sklearn.linear_model import LinearRegression\n",
    "model=LinearRegression()\n",
    "model.fit(X_scaled_minmax_train, y_train)"
   ]
  },
  {
   "cell_type": "code",
   "execution_count": 17,
   "metadata": {},
   "outputs": [
    {
     "data": {
      "text/plain": [
       "0.5463729131516732"
      ]
     },
     "execution_count": 17,
     "metadata": {},
     "output_type": "execute_result"
    }
   ],
   "source": [
    "pred_train=model.predict(X_scaled_minmax_train)\n",
    "model.score(X_scaled_minmax_train, y_train)"
   ]
  },
  {
   "cell_type": "code",
   "execution_count": 18,
   "metadata": {},
   "outputs": [
    {
     "data": {
      "text/plain": [
       "-2.8220648010161544"
      ]
     },
     "execution_count": 18,
     "metadata": {},
     "output_type": "execute_result"
    }
   ],
   "source": [
    "pred_test=model.predict(X_scaled_minmax_test)\n",
    "model.score(X_scaled_minmax_test,y_test)"
   ]
  },
  {
   "cell_type": "markdown",
   "metadata": {},
   "source": [
    "## 6.3 데이터 정제를 위한 세부 검토"
   ]
  },
  {
   "cell_type": "code",
   "execution_count": 25,
   "metadata": {},
   "outputs": [
    {
     "data": {
      "text/plain": [
       "<AxesSubplot:>"
      ]
     },
     "execution_count": 25,
     "metadata": {},
     "output_type": "execute_result"
    },
    {
     "data": {
      "image/png": "[encoded data removed]",
      "text/plain": [
       "<Figure size 432x288 with 1 Axes>"
      ]
     },
     "metadata": {
      "needs_background": "light"
     },
     "output_type": "display_data"
    }
   ],
   "source": [
    "# bedrooms 이상치\n",
    "data.bedrooms.hist()"
   ]
  },
  {
   "cell_type": "code",
   "execution_count": 22,
   "metadata": {},
   "outputs": [
    {
     "data": {
      "text/plain": [
       "<AxesSubplot:>"
      ]
     },
     "execution_count": 22,
     "metadata": {},
     "output_type": "execute_result"
    },
    {
     "data": {
      "image/png": "[encoded data removed]",
      "text/plain": [
       "<Figure size 1440x1080 with 1 Axes>"
      ]
     },
     "metadata": {
      "needs_background": "light"
     },
     "output_type": "display_data"
    }
   ],
   "source": [
    "# bedrooms는 0.6 이상에서 매우 큰 값들이 존재\n",
    "data_bedrooms=data[data.bedrooms<0.6]\n",
    "data_bedrooms.bedrooms.hist(bins=100, figsize=(20,15))"
   ]
  },
  {
   "cell_type": "code",
   "execution_count": 24,
   "metadata": {},
   "outputs": [
    {
     "name": "stdout",
     "output_type": "stream",
     "text": [
      "1.000000    3\n",
      "0.602489    1\n",
      "0.635258    1\n",
      "0.658869    1\n",
      "0.613084    1\n",
      "0.662539    1\n",
      "0.625887    1\n",
      "0.923077    1\n",
      "0.700000    1\n",
      "0.627338    1\n",
      "0.686114    1\n",
      "0.750000    1\n",
      "Name: bedrooms, dtype: int64\n"
     ]
    },
    {
     "data": {
      "text/html": [
       "<div>\n",
       "<style scoped>\n",
       "    .dataframe tbody tr th:only-of-type {\n",
       "        vertical-align: middle;\n",
       "    }\n",
       "\n",
       "    .dataframe tbody tr th {\n",
       "        vertical-align: top;\n",
       "    }\n",
       "\n",
       "    .dataframe thead th {\n",
       "        text-align: right;\n",
       "    }\n",
       "</style>\n",
       "<table border=\"1\" class=\"dataframe\">\n",
       "  <thead>\n",
       "    <tr style=\"text-align: right;\">\n",
       "      <th></th>\n",
       "      <th>housing_age</th>\n",
       "      <th>income</th>\n",
       "      <th>bedrooms</th>\n",
       "      <th>households</th>\n",
       "      <th>rooms</th>\n",
       "      <th>house_value</th>\n",
       "    </tr>\n",
       "  </thead>\n",
       "  <tbody>\n",
       "    <tr>\n",
       "      <th>1732</th>\n",
       "      <td>43</td>\n",
       "      <td>1.3157</td>\n",
       "      <td>0.602489</td>\n",
       "      <td>2.133660</td>\n",
       "      <td>1.911826</td>\n",
       "      <td>333300</td>\n",
       "    </tr>\n",
       "    <tr>\n",
       "      <th>1911</th>\n",
       "      <td>25</td>\n",
       "      <td>1.7866</td>\n",
       "      <td>0.635258</td>\n",
       "      <td>3.566327</td>\n",
       "      <td>1.678571</td>\n",
       "      <td>325000</td>\n",
       "    </tr>\n",
       "    <tr>\n",
       "      <th>3162</th>\n",
       "      <td>26</td>\n",
       "      <td>1.4904</td>\n",
       "      <td>0.658869</td>\n",
       "      <td>3.750779</td>\n",
       "      <td>1.598131</td>\n",
       "      <td>275000</td>\n",
       "    </tr>\n",
       "    <tr>\n",
       "      <th>3165</th>\n",
       "      <td>12</td>\n",
       "      <td>1.2012</td>\n",
       "      <td>0.613084</td>\n",
       "      <td>3.271233</td>\n",
       "      <td>1.465753</td>\n",
       "      <td>275000</td>\n",
       "    </tr>\n",
       "    <tr>\n",
       "      <th>5446</th>\n",
       "      <td>24</td>\n",
       "      <td>1.8304</td>\n",
       "      <td>0.662539</td>\n",
       "      <td>3.973545</td>\n",
       "      <td>1.708995</td>\n",
       "      <td>225000</td>\n",
       "    </tr>\n",
       "    <tr>\n",
       "      <th>7674</th>\n",
       "      <td>45</td>\n",
       "      <td>1.4940</td>\n",
       "      <td>0.625887</td>\n",
       "      <td>3.673981</td>\n",
       "      <td>1.768025</td>\n",
       "      <td>187500</td>\n",
       "    </tr>\n",
       "    <tr>\n",
       "      <th>7677</th>\n",
       "      <td>20</td>\n",
       "      <td>1.0938</td>\n",
       "      <td>0.923077</td>\n",
       "      <td>1.739130</td>\n",
       "      <td>1.130435</td>\n",
       "      <td>187500</td>\n",
       "    </tr>\n",
       "    <tr>\n",
       "      <th>9658</th>\n",
       "      <td>46</td>\n",
       "      <td>2.8750</td>\n",
       "      <td>1.000000</td>\n",
       "      <td>1.846154</td>\n",
       "      <td>0.846154</td>\n",
       "      <td>162500</td>\n",
       "    </tr>\n",
       "    <tr>\n",
       "      <th>9716</th>\n",
       "      <td>16</td>\n",
       "      <td>0.5360</td>\n",
       "      <td>1.000000</td>\n",
       "      <td>18.444444</td>\n",
       "      <td>2.111111</td>\n",
       "      <td>162500</td>\n",
       "    </tr>\n",
       "    <tr>\n",
       "      <th>11810</th>\n",
       "      <td>37</td>\n",
       "      <td>2.7634</td>\n",
       "      <td>0.700000</td>\n",
       "      <td>4.524194</td>\n",
       "      <td>1.411290</td>\n",
       "      <td>137500</td>\n",
       "    </tr>\n",
       "    <tr>\n",
       "      <th>11827</th>\n",
       "      <td>4</td>\n",
       "      <td>2.3750</td>\n",
       "      <td>1.000000</td>\n",
       "      <td>3.000000</td>\n",
       "      <td>1.000000</td>\n",
       "      <td>137500</td>\n",
       "    </tr>\n",
       "    <tr>\n",
       "      <th>11863</th>\n",
       "      <td>47</td>\n",
       "      <td>1.4680</td>\n",
       "      <td>0.627338</td>\n",
       "      <td>3.458283</td>\n",
       "      <td>1.680774</td>\n",
       "      <td>137500</td>\n",
       "    </tr>\n",
       "    <tr>\n",
       "      <th>13661</th>\n",
       "      <td>25</td>\n",
       "      <td>1.3241</td>\n",
       "      <td>0.686114</td>\n",
       "      <td>3.593629</td>\n",
       "      <td>1.654440</td>\n",
       "      <td>112500</td>\n",
       "    </tr>\n",
       "    <tr>\n",
       "      <th>17908</th>\n",
       "      <td>21</td>\n",
       "      <td>0.8571</td>\n",
       "      <td>0.750000</td>\n",
       "      <td>2.370370</td>\n",
       "      <td>1.629630</td>\n",
       "      <td>25000</td>\n",
       "    </tr>\n",
       "  </tbody>\n",
       "</table>\n",
       "</div>"
      ],
      "text/plain": [
       "       housing_age  income  bedrooms  households     rooms  house_value\n",
       "1732            43  1.3157  0.602489    2.133660  1.911826       333300\n",
       "1911            25  1.7866  0.635258    3.566327  1.678571       325000\n",
       "3162            26  1.4904  0.658869    3.750779  1.598131       275000\n",
       "3165            12  1.2012  0.613084    3.271233  1.465753       275000\n",
       "5446            24  1.8304  0.662539    3.973545  1.708995       225000\n",
       "7674            45  1.4940  0.625887    3.673981  1.768025       187500\n",
       "7677            20  1.0938  0.923077    1.739130  1.130435       187500\n",
       "9658            46  2.8750  1.000000    1.846154  0.846154       162500\n",
       "9716            16  0.5360  1.000000   18.444444  2.111111       162500\n",
       "11810           37  2.7634  0.700000    4.524194  1.411290       137500\n",
       "11827            4  2.3750  1.000000    3.000000  1.000000       137500\n",
       "11863           47  1.4680  0.627338    3.458283  1.680774       137500\n",
       "13661           25  1.3241  0.686114    3.593629  1.654440       112500\n",
       "17908           21  0.8571  0.750000    2.370370  1.629630        25000"
      ]
     },
     "execution_count": 24,
     "metadata": {},
     "output_type": "execute_result"
    }
   ],
   "source": [
    "# bedrooms 변수에서 0.6보다 큰 데이터가 14개 있다. 제거해도 전체 데이터에 영향 없을 것이다.\n",
    "data_bedrooms2=data[data.bedrooms>0.6]\n",
    "print(data_bedrooms2.bedrooms.value_counts())\n",
    "data_bedrooms2"
   ]
  },
  {
   "cell_type": "code",
   "execution_count": 35,
   "metadata": {},
   "outputs": [
    {
     "data": {
      "text/plain": [
       "<AxesSubplot:>"
      ]
     },
     "execution_count": 35,
     "metadata": {},
     "output_type": "execute_result"
    },
    {
     "data": {
      "image/png": "[encoded data removed]",
      "text/plain": [
       "<Figure size 1440x1080 with 1 Axes>"
      ]
     },
     "metadata": {
      "needs_background": "light"
     },
     "output_type": "display_data"
    }
   ],
   "source": [
    "# households 이상치\n",
    "data_households=data[data.households<10]\n",
    "data_households.households.hist(bins=100, figsize=(20,15))"
   ]
  },
  {
   "cell_type": "code",
   "execution_count": 37,
   "metadata": {},
   "outputs": [
    {
     "data": {
      "text/html": [
       "<div>\n",
       "<style scoped>\n",
       "    .dataframe tbody tr th:only-of-type {\n",
       "        vertical-align: middle;\n",
       "    }\n",
       "\n",
       "    .dataframe tbody tr th {\n",
       "        vertical-align: top;\n",
       "    }\n",
       "\n",
       "    .dataframe thead th {\n",
       "        text-align: right;\n",
       "    }\n",
       "</style>\n",
       "<table border=\"1\" class=\"dataframe\">\n",
       "  <thead>\n",
       "    <tr style=\"text-align: right;\">\n",
       "      <th></th>\n",
       "      <th>housing_age</th>\n",
       "      <th>income</th>\n",
       "      <th>bedrooms</th>\n",
       "      <th>households</th>\n",
       "      <th>rooms</th>\n",
       "      <th>house_value</th>\n",
       "    </tr>\n",
       "  </thead>\n",
       "  <tbody>\n",
       "    <tr>\n",
       "      <th>2420</th>\n",
       "      <td>20</td>\n",
       "      <td>1.0298</td>\n",
       "      <td>0.338658</td>\n",
       "      <td>13.693487</td>\n",
       "      <td>2.398467</td>\n",
       "      <td>300000</td>\n",
       "    </tr>\n",
       "    <tr>\n",
       "      <th>5398</th>\n",
       "      <td>33</td>\n",
       "      <td>3.8750</td>\n",
       "      <td>0.218310</td>\n",
       "      <td>12.234043</td>\n",
       "      <td>3.021277</td>\n",
       "      <td>225000</td>\n",
       "    </tr>\n",
       "    <tr>\n",
       "      <th>8003</th>\n",
       "      <td>36</td>\n",
       "      <td>4.2578</td>\n",
       "      <td>0.212528</td>\n",
       "      <td>33.952941</td>\n",
       "      <td>5.258824</td>\n",
       "      <td>183300</td>\n",
       "    </tr>\n",
       "    <tr>\n",
       "      <th>9617</th>\n",
       "      <td>26</td>\n",
       "      <td>5.7485</td>\n",
       "      <td>0.167702</td>\n",
       "      <td>51.400000</td>\n",
       "      <td>5.366667</td>\n",
       "      <td>162500</td>\n",
       "    </tr>\n",
       "    <tr>\n",
       "      <th>9625</th>\n",
       "      <td>36</td>\n",
       "      <td>4.6250</td>\n",
       "      <td>0.142857</td>\n",
       "      <td>14.000000</td>\n",
       "      <td>24.500000</td>\n",
       "      <td>162500</td>\n",
       "    </tr>\n",
       "    <tr>\n",
       "      <th>9703</th>\n",
       "      <td>8</td>\n",
       "      <td>1.6250</td>\n",
       "      <td>0.125000</td>\n",
       "      <td>63.750000</td>\n",
       "      <td>7.600000</td>\n",
       "      <td>162500</td>\n",
       "    </tr>\n",
       "    <tr>\n",
       "      <th>9713</th>\n",
       "      <td>19</td>\n",
       "      <td>0.9573</td>\n",
       "      <td>0.338843</td>\n",
       "      <td>16.048780</td>\n",
       "      <td>2.951220</td>\n",
       "      <td>162500</td>\n",
       "    </tr>\n",
       "    <tr>\n",
       "      <th>9716</th>\n",
       "      <td>16</td>\n",
       "      <td>0.5360</td>\n",
       "      <td>1.000000</td>\n",
       "      <td>18.444444</td>\n",
       "      <td>2.111111</td>\n",
       "      <td>162500</td>\n",
       "    </tr>\n",
       "    <tr>\n",
       "      <th>11397</th>\n",
       "      <td>13</td>\n",
       "      <td>3.4107</td>\n",
       "      <td>0.218182</td>\n",
       "      <td>12.843750</td>\n",
       "      <td>5.156250</td>\n",
       "      <td>142500</td>\n",
       "    </tr>\n",
       "    <tr>\n",
       "      <th>11987</th>\n",
       "      <td>41</td>\n",
       "      <td>3.5769</td>\n",
       "      <td>0.222672</td>\n",
       "      <td>18.500000</td>\n",
       "      <td>4.940000</td>\n",
       "      <td>135700</td>\n",
       "    </tr>\n",
       "    <tr>\n",
       "      <th>12290</th>\n",
       "      <td>14</td>\n",
       "      <td>2.4732</td>\n",
       "      <td>0.241758</td>\n",
       "      <td>13.594828</td>\n",
       "      <td>4.445402</td>\n",
       "      <td>131300</td>\n",
       "    </tr>\n",
       "    <tr>\n",
       "      <th>12709</th>\n",
       "      <td>41</td>\n",
       "      <td>2.2813</td>\n",
       "      <td>0.234234</td>\n",
       "      <td>12.130081</td>\n",
       "      <td>4.512195</td>\n",
       "      <td>125000</td>\n",
       "    </tr>\n",
       "    <tr>\n",
       "      <th>12794</th>\n",
       "      <td>36</td>\n",
       "      <td>2.1845</td>\n",
       "      <td>0.230769</td>\n",
       "      <td>15.812155</td>\n",
       "      <td>4.812155</td>\n",
       "      <td>123800</td>\n",
       "    </tr>\n",
       "    <tr>\n",
       "      <th>13693</th>\n",
       "      <td>22</td>\n",
       "      <td>3.5365</td>\n",
       "      <td>0.199532</td>\n",
       "      <td>12.895397</td>\n",
       "      <td>5.368201</td>\n",
       "      <td>111800</td>\n",
       "    </tr>\n",
       "    <tr>\n",
       "      <th>16828</th>\n",
       "      <td>36</td>\n",
       "      <td>5.5179</td>\n",
       "      <td>0.222222</td>\n",
       "      <td>599.714286</td>\n",
       "      <td>5.142857</td>\n",
       "      <td>67500</td>\n",
       "    </tr>\n",
       "    <tr>\n",
       "      <th>16834</th>\n",
       "      <td>26</td>\n",
       "      <td>3.5357</td>\n",
       "      <td>0.172542</td>\n",
       "      <td>10.980000</td>\n",
       "      <td>6.468000</td>\n",
       "      <td>67500</td>\n",
       "    </tr>\n",
       "    <tr>\n",
       "      <th>16839</th>\n",
       "      <td>34</td>\n",
       "      <td>3.3750</td>\n",
       "      <td>0.189189</td>\n",
       "      <td>10.153846</td>\n",
       "      <td>11.384615</td>\n",
       "      <td>67500</td>\n",
       "    </tr>\n",
       "    <tr>\n",
       "      <th>17114</th>\n",
       "      <td>22</td>\n",
       "      <td>1.9792</td>\n",
       "      <td>0.247853</td>\n",
       "      <td>12.296089</td>\n",
       "      <td>4.553073</td>\n",
       "      <td>63000</td>\n",
       "    </tr>\n",
       "    <tr>\n",
       "      <th>17610</th>\n",
       "      <td>18</td>\n",
       "      <td>1.6250</td>\n",
       "      <td>0.232708</td>\n",
       "      <td>12.098940</td>\n",
       "      <td>6.028269</td>\n",
       "      <td>53500</td>\n",
       "    </tr>\n",
       "    <tr>\n",
       "      <th>17650</th>\n",
       "      <td>8</td>\n",
       "      <td>4.0208</td>\n",
       "      <td>0.250000</td>\n",
       "      <td>19.312500</td>\n",
       "      <td>2.500000</td>\n",
       "      <td>52500</td>\n",
       "    </tr>\n",
       "    <tr>\n",
       "      <th>17799</th>\n",
       "      <td>35</td>\n",
       "      <td>1.9125</td>\n",
       "      <td>0.291667</td>\n",
       "      <td>11.634146</td>\n",
       "      <td>2.926829</td>\n",
       "      <td>47500</td>\n",
       "    </tr>\n",
       "    <tr>\n",
       "      <th>17864</th>\n",
       "      <td>16</td>\n",
       "      <td>1.6563</td>\n",
       "      <td>0.182927</td>\n",
       "      <td>16.937500</td>\n",
       "      <td>5.125000</td>\n",
       "      <td>42500</td>\n",
       "    </tr>\n",
       "  </tbody>\n",
       "</table>\n",
       "</div>"
      ],
      "text/plain": [
       "       housing_age  income  bedrooms  households      rooms  house_value\n",
       "2420            20  1.0298  0.338658   13.693487   2.398467       300000\n",
       "5398            33  3.8750  0.218310   12.234043   3.021277       225000\n",
       "8003            36  4.2578  0.212528   33.952941   5.258824       183300\n",
       "9617            26  5.7485  0.167702   51.400000   5.366667       162500\n",
       "9625            36  4.6250  0.142857   14.000000  24.500000       162500\n",
       "9703             8  1.6250  0.125000   63.750000   7.600000       162500\n",
       "9713            19  0.9573  0.338843   16.048780   2.951220       162500\n",
       "9716            16  0.5360  1.000000   18.444444   2.111111       162500\n",
       "11397           13  3.4107  0.218182   12.843750   5.156250       142500\n",
       "11987           41  3.5769  0.222672   18.500000   4.940000       135700\n",
       "12290           14  2.4732  0.241758   13.594828   4.445402       131300\n",
       "12709           41  2.2813  0.234234   12.130081   4.512195       125000\n",
       "12794           36  2.1845  0.230769   15.812155   4.812155       123800\n",
       "13693           22  3.5365  0.199532   12.895397   5.368201       111800\n",
       "16828           36  5.5179  0.222222  599.714286   5.142857        67500\n",
       "16834           26  3.5357  0.172542   10.980000   6.468000        67500\n",
       "16839           34  3.3750  0.189189   10.153846  11.384615        67500\n",
       "17114           22  1.9792  0.247853   12.296089   4.553073        63000\n",
       "17610           18  1.6250  0.232708   12.098940   6.028269        53500\n",
       "17650            8  4.0208  0.250000   19.312500   2.500000        52500\n",
       "17799           35  1.9125  0.291667   11.634146   2.926829        47500\n",
       "17864           16  1.6563  0.182927   16.937500   5.125000        42500"
      ]
     },
     "execution_count": 37,
     "metadata": {},
     "output_type": "execute_result"
    }
   ],
   "source": [
    "# households 변수에서 10보다 큰 데이터 약 22개->제거 가능\n",
    "data_households2=data[data.households>=10]\n",
    "data_households2"
   ]
  },
  {
   "cell_type": "code",
   "execution_count": 39,
   "metadata": {},
   "outputs": [
    {
     "data": {
      "text/plain": [
       "<AxesSubplot:>"
      ]
     },
     "execution_count": 39,
     "metadata": {},
     "output_type": "execute_result"
    },
    {
     "data": {
      "image/png": "[encoded data removed]",
      "text/plain": [
       "<Figure size 1440x1080 with 1 Axes>"
      ]
     },
     "metadata": {
      "needs_background": "light"
     },
     "output_type": "display_data"
    }
   ],
   "source": [
    "# rooms 이상치\n",
    "data_rooms=data[data.rooms<20]\n",
    "data_rooms.rooms.hist(bins=100, figsize=(20,15))"
   ]
  },
  {
   "cell_type": "code",
   "execution_count": 41,
   "metadata": {},
   "outputs": [
    {
     "name": "stdout",
     "output_type": "stream",
     "text": [
      "24.500000     2\n",
      "61.812500     1\n",
      "20.033333     1\n",
      "36.060606     1\n",
      "26.041096     1\n",
      "             ..\n",
      "26.511416     1\n",
      "132.533333    1\n",
      "24.900000     1\n",
      "26.465969     1\n",
      "31.777778     1\n",
      "Name: rooms, Length: 63, dtype: int64\n"
     ]
    },
    {
     "data": {
      "text/html": [
       "<div>\n",
       "<style scoped>\n",
       "    .dataframe tbody tr th:only-of-type {\n",
       "        vertical-align: middle;\n",
       "    }\n",
       "\n",
       "    .dataframe tbody tr th {\n",
       "        vertical-align: top;\n",
       "    }\n",
       "\n",
       "    .dataframe thead th {\n",
       "        text-align: right;\n",
       "    }\n",
       "</style>\n",
       "<table border=\"1\" class=\"dataframe\">\n",
       "  <thead>\n",
       "    <tr style=\"text-align: right;\">\n",
       "      <th></th>\n",
       "      <th>housing_age</th>\n",
       "      <th>income</th>\n",
       "      <th>bedrooms</th>\n",
       "      <th>households</th>\n",
       "      <th>rooms</th>\n",
       "      <th>house_value</th>\n",
       "    </tr>\n",
       "  </thead>\n",
       "  <tbody>\n",
       "    <tr>\n",
       "      <th>324</th>\n",
       "      <td>19</td>\n",
       "      <td>4.0714</td>\n",
       "      <td>0.177958</td>\n",
       "      <td>2.333333</td>\n",
       "      <td>61.812500</td>\n",
       "      <td>437500</td>\n",
       "    </tr>\n",
       "    <tr>\n",
       "      <th>457</th>\n",
       "      <td>17</td>\n",
       "      <td>2.1719</td>\n",
       "      <td>0.172918</td>\n",
       "      <td>2.581818</td>\n",
       "      <td>28.600000</td>\n",
       "      <td>420000</td>\n",
       "    </tr>\n",
       "    <tr>\n",
       "      <th>1140</th>\n",
       "      <td>18</td>\n",
       "      <td>5.5456</td>\n",
       "      <td>0.146182</td>\n",
       "      <td>2.273585</td>\n",
       "      <td>36.075472</td>\n",
       "      <td>360000</td>\n",
       "    </tr>\n",
       "    <tr>\n",
       "      <th>2146</th>\n",
       "      <td>17</td>\n",
       "      <td>3.9722</td>\n",
       "      <td>0.172642</td>\n",
       "      <td>2.608355</td>\n",
       "      <td>20.900783</td>\n",
       "      <td>313400</td>\n",
       "    </tr>\n",
       "    <tr>\n",
       "      <th>2858</th>\n",
       "      <td>14</td>\n",
       "      <td>4.1016</td>\n",
       "      <td>0.175109</td>\n",
       "      <td>2.136364</td>\n",
       "      <td>20.939394</td>\n",
       "      <td>283300</td>\n",
       "    </tr>\n",
       "    <tr>\n",
       "      <th>...</th>\n",
       "      <td>...</td>\n",
       "      <td>...</td>\n",
       "      <td>...</td>\n",
       "      <td>...</td>\n",
       "      <td>...</td>\n",
       "      <td>...</td>\n",
       "    </tr>\n",
       "    <tr>\n",
       "      <th>16222</th>\n",
       "      <td>11</td>\n",
       "      <td>3.1250</td>\n",
       "      <td>0.235332</td>\n",
       "      <td>2.484848</td>\n",
       "      <td>47.515152</td>\n",
       "      <td>77500</td>\n",
       "    </tr>\n",
       "    <tr>\n",
       "      <th>16429</th>\n",
       "      <td>16</td>\n",
       "      <td>0.4999</td>\n",
       "      <td>0.277372</td>\n",
       "      <td>1.368421</td>\n",
       "      <td>21.631579</td>\n",
       "      <td>73500</td>\n",
       "    </tr>\n",
       "    <tr>\n",
       "      <th>16584</th>\n",
       "      <td>10</td>\n",
       "      <td>3.1250</td>\n",
       "      <td>0.250564</td>\n",
       "      <td>2.285714</td>\n",
       "      <td>21.095238</td>\n",
       "      <td>71300</td>\n",
       "    </tr>\n",
       "    <tr>\n",
       "      <th>16844</th>\n",
       "      <td>25</td>\n",
       "      <td>2.6250</td>\n",
       "      <td>0.255741</td>\n",
       "      <td>1.750000</td>\n",
       "      <td>59.875000</td>\n",
       "      <td>67500</td>\n",
       "    </tr>\n",
       "    <tr>\n",
       "      <th>16848</th>\n",
       "      <td>17</td>\n",
       "      <td>2.4028</td>\n",
       "      <td>0.305361</td>\n",
       "      <td>1.740741</td>\n",
       "      <td>31.777778</td>\n",
       "      <td>67500</td>\n",
       "    </tr>\n",
       "  </tbody>\n",
       "</table>\n",
       "<p>64 rows × 6 columns</p>\n",
       "</div>"
      ],
      "text/plain": [
       "       housing_age  income  bedrooms  households      rooms  house_value\n",
       "324             19  4.0714  0.177958    2.333333  61.812500       437500\n",
       "457             17  2.1719  0.172918    2.581818  28.600000       420000\n",
       "1140            18  5.5456  0.146182    2.273585  36.075472       360000\n",
       "2146            17  3.9722  0.172642    2.608355  20.900783       313400\n",
       "2858            14  4.1016  0.175109    2.136364  20.939394       283300\n",
       "...            ...     ...       ...         ...        ...          ...\n",
       "16222           11  3.1250  0.235332    2.484848  47.515152        77500\n",
       "16429           16  0.4999  0.277372    1.368421  21.631579        73500\n",
       "16584           10  3.1250  0.250564    2.285714  21.095238        71300\n",
       "16844           25  2.6250  0.255741    1.750000  59.875000        67500\n",
       "16848           17  2.4028  0.305361    1.740741  31.777778        67500\n",
       "\n",
       "[64 rows x 6 columns]"
      ]
     },
     "execution_count": 41,
     "metadata": {},
     "output_type": "execute_result"
    }
   ],
   "source": [
    "data_rooms2=data[data.rooms>=20]\n",
    "print(data_rooms2.rooms.value_counts())\n",
    "data_rooms2"
   ]
  },
  {
   "cell_type": "markdown",
   "metadata": {},
   "source": [
    "## 6.4 정제 데이터셋 생성"
   ]
  },
  {
   "cell_type": "code",
   "execution_count": 42,
   "metadata": {},
   "outputs": [
    {
     "data": {
      "text/html": [
       "<div>\n",
       "<style scoped>\n",
       "    .dataframe tbody tr th:only-of-type {\n",
       "        vertical-align: middle;\n",
       "    }\n",
       "\n",
       "    .dataframe tbody tr th {\n",
       "        vertical-align: top;\n",
       "    }\n",
       "\n",
       "    .dataframe thead th {\n",
       "        text-align: right;\n",
       "    }\n",
       "</style>\n",
       "<table border=\"1\" class=\"dataframe\">\n",
       "  <thead>\n",
       "    <tr style=\"text-align: right;\">\n",
       "      <th></th>\n",
       "      <th>housing_age</th>\n",
       "      <th>income</th>\n",
       "      <th>bedrooms</th>\n",
       "      <th>households</th>\n",
       "      <th>rooms</th>\n",
       "      <th>house_value</th>\n",
       "    </tr>\n",
       "  </thead>\n",
       "  <tbody>\n",
       "    <tr>\n",
       "      <th>count</th>\n",
       "      <td>17689.000000</td>\n",
       "      <td>17689.000000</td>\n",
       "      <td>17689.000000</td>\n",
       "      <td>17689.000000</td>\n",
       "      <td>17689.000000</td>\n",
       "      <td>17689.000000</td>\n",
       "    </tr>\n",
       "    <tr>\n",
       "      <th>mean</th>\n",
       "      <td>27.378823</td>\n",
       "      <td>3.671141</td>\n",
       "      <td>0.213278</td>\n",
       "      <td>2.952117</td>\n",
       "      <td>5.244001</td>\n",
       "      <td>189043.439313</td>\n",
       "    </tr>\n",
       "    <tr>\n",
       "      <th>std</th>\n",
       "      <td>11.280230</td>\n",
       "      <td>1.525937</td>\n",
       "      <td>0.051167</td>\n",
       "      <td>0.731573</td>\n",
       "      <td>1.184922</td>\n",
       "      <td>95487.122628</td>\n",
       "    </tr>\n",
       "    <tr>\n",
       "      <th>min</th>\n",
       "      <td>1.000000</td>\n",
       "      <td>0.499900</td>\n",
       "      <td>0.100000</td>\n",
       "      <td>0.750000</td>\n",
       "      <td>1.640000</td>\n",
       "      <td>14999.000000</td>\n",
       "    </tr>\n",
       "    <tr>\n",
       "      <th>25%</th>\n",
       "      <td>18.000000</td>\n",
       "      <td>2.532900</td>\n",
       "      <td>0.177464</td>\n",
       "      <td>2.470270</td>\n",
       "      <td>4.426829</td>\n",
       "      <td>114400.000000</td>\n",
       "    </tr>\n",
       "    <tr>\n",
       "      <th>50%</th>\n",
       "      <td>28.000000</td>\n",
       "      <td>3.453900</td>\n",
       "      <td>0.204104</td>\n",
       "      <td>2.854962</td>\n",
       "      <td>5.190779</td>\n",
       "      <td>171100.000000</td>\n",
       "    </tr>\n",
       "    <tr>\n",
       "      <th>75%</th>\n",
       "      <td>36.000000</td>\n",
       "      <td>4.591800</td>\n",
       "      <td>0.240157</td>\n",
       "      <td>3.316092</td>\n",
       "      <td>5.953728</td>\n",
       "      <td>242700.000000</td>\n",
       "    </tr>\n",
       "    <tr>\n",
       "      <th>max</th>\n",
       "      <td>51.000000</td>\n",
       "      <td>9.905500</td>\n",
       "      <td>0.498127</td>\n",
       "      <td>6.954023</td>\n",
       "      <td>11.901869</td>\n",
       "      <td>500000.000000</td>\n",
       "    </tr>\n",
       "  </tbody>\n",
       "</table>\n",
       "</div>"
      ],
      "text/plain": [
       "        housing_age        income      bedrooms    households         rooms  \\\n",
       "count  17689.000000  17689.000000  17689.000000  17689.000000  17689.000000   \n",
       "mean      27.378823      3.671141      0.213278      2.952117      5.244001   \n",
       "std       11.280230      1.525937      0.051167      0.731573      1.184922   \n",
       "min        1.000000      0.499900      0.100000      0.750000      1.640000   \n",
       "25%       18.000000      2.532900      0.177464      2.470270      4.426829   \n",
       "50%       28.000000      3.453900      0.204104      2.854962      5.190779   \n",
       "75%       36.000000      4.591800      0.240157      3.316092      5.953728   \n",
       "max       51.000000      9.905500      0.498127      6.954023     11.901869   \n",
       "\n",
       "         house_value  \n",
       "count   17689.000000  \n",
       "mean   189043.439313  \n",
       "std     95487.122628  \n",
       "min     14999.000000  \n",
       "25%    114400.000000  \n",
       "50%    171100.000000  \n",
       "75%    242700.000000  \n",
       "max    500000.000000  "
      ]
     },
     "execution_count": 42,
     "metadata": {},
     "output_type": "execute_result"
    }
   ],
   "source": [
    "new_data=data[(data.bedrooms<0.5)&(data.households<7)&(data.rooms<12)]\n",
    "new_data.describe()"
   ]
  },
  {
   "cell_type": "code",
   "execution_count": 43,
   "metadata": {},
   "outputs": [
    {
     "data": {
      "text/plain": [
       "array([[<AxesSubplot:title={'center':'housing_age'}>,\n",
       "        <AxesSubplot:title={'center':'income'}>],\n",
       "       [<AxesSubplot:title={'center':'bedrooms'}>,\n",
       "        <AxesSubplot:title={'center':'households'}>],\n",
       "       [<AxesSubplot:title={'center':'rooms'}>,\n",
       "        <AxesSubplot:title={'center':'house_value'}>]], dtype=object)"
      ]
     },
     "execution_count": 43,
     "metadata": {},
     "output_type": "execute_result"
    },
    {
     "data": {
      "image/png": "[encoded data removed]",
      "text/plain": [
       "<Figure size 1440x1080 with 6 Axes>"
      ]
     },
     "metadata": {
      "needs_background": "light"
     },
     "output_type": "display_data"
    }
   ],
   "source": [
    "new_data.hist(bins=100, figsize=(20,15))"
   ]
  },
  {
   "cell_type": "markdown",
   "metadata": {},
   "source": [
    "## 6.5 선형회귀 적용(정제 후 데이터)"
   ]
  },
  {
   "cell_type": "code",
   "execution_count": 44,
   "metadata": {},
   "outputs": [],
   "source": [
    "# 특성 데이터 셋, 레이블 데이터 셋 나누기\n",
    "X=new_data[new_data.columns[0:5]]\n",
    "y=new_data[['house_value']]"
   ]
  },
  {
   "cell_type": "code",
   "execution_count": 45,
   "metadata": {},
   "outputs": [],
   "source": [
    "# 7:3 train, test 나누기\n",
    "from sklearn.model_selection import train_test_split\n",
    "X_train,X_test,y_train,y_test=train_test_split(X,y,random_state=42)"
   ]
  },
  {
   "cell_type": "code",
   "execution_count": 49,
   "metadata": {},
   "outputs": [],
   "source": [
    "# 데이터 MinMax 정규화\n",
    "from sklearn.preprocessing import MinMaxScaler\n",
    "scaler_minmax=MinMaxScaler()\n",
    "scaler_minmax.fit(X_train)\n",
    "X_scaled_minmax_train=scaler_minmax.transform(X_train)\n",
    "X_scaled_minmax_test=scaler_minmax.transform(X_test)"
   ]
  },
  {
   "cell_type": "code",
   "execution_count": 50,
   "metadata": {},
   "outputs": [
    {
     "data": {
      "text/plain": [
       "LinearRegression()"
      ]
     },
     "execution_count": 50,
     "metadata": {},
     "output_type": "execute_result"
    }
   ],
   "source": [
    "# 선형모델 적용\n",
    "from sklearn.linear_model import LinearRegression\n",
    "model=LinearRegression()\n",
    "model.fit(X_scaled_minmax_train, y_train)"
   ]
  },
  {
   "cell_type": "code",
   "execution_count": 51,
   "metadata": {},
   "outputs": [
    {
     "name": "stdout",
     "output_type": "stream",
     "text": [
      "훈련데이터 정확도 : 0.5706921210926263\n"
     ]
    }
   ],
   "source": [
    "pred_train=model.predict(X_scaled_minmax_train)\n",
    "print(f\"훈련데이터 정확도 : {model.score(X_scaled_minmax_train,y_train)}\")"
   ]
  },
  {
   "cell_type": "code",
   "execution_count": 52,
   "metadata": {},
   "outputs": [
    {
     "name": "stdout",
     "output_type": "stream",
     "text": [
      "훈련데이터 정확도 : 0.5826083517811866\n"
     ]
    }
   ],
   "source": [
    "pred_test=model.predict(X_scaled_minmax_test)\n",
    "print(f\"훈련데이터 정확도 : {model.score(X_scaled_minmax_test,y_test)}\")"
   ]
  },
  {
   "cell_type": "code",
   "execution_count": null,
   "metadata": {},
   "outputs": [],
   "source": []
  }
 ],
 "metadata": {
  "kernelspec": {
   "display_name": "Python 3",
   "language": "python",
   "name": "python3"
  },
  "language_info": {
   "codemirror_mode": {
    "name": "ipython",
    "version": 3
   },
   "file_extension": ".py",
   "mimetype": "text/x-python",
   "name": "python",
   "nbconvert_exporter": "python",
   "pygments_lexer": "ipython3",
   "version": "3.7.3"
  }
 },
 "nbformat": 4,
 "nbformat_minor": 2
}
