{
 "cells": [
  {
   "cell_type": "markdown",
   "metadata": {},
   "source": [
    "# 14.1 핵심 개념\n",
    "- 라쏘 회귀모델은 릿지 회귀모델과 유사하게 특성의 계수값을 0에 가깝게 하지만 실제 중요하지 낭ㄶ은 변수의 계수를 0으로 만들어 불필요한 변수를 제거하는 모델"
   ]
  },
  {
   "cell_type": "markdown",
   "metadata": {},
   "source": [
    "# 14.3 분석 코드"
   ]
  },
  {
   "cell_type": "code",
   "execution_count": 1,
   "metadata": {},
   "outputs": [],
   "source": [
    "import warnings\n",
    "warnings.filterwarnings('ignore')\n",
    "\n",
    "import pandas as pd\n",
    "data2=pd.read_csv('../data/house_price.csv', encoding='utf-8')\n",
    "X=data2[data2.columns[:-1]]\n",
    "y=data2[['house_value']]\n",
    "\n",
    "from sklearn.model_selection import train_test_split\n",
    "X_train, X_test, y_train, y_test=train_test_split(X, y, random_state=42)\n",
    "\n",
    "from sklearn.preprocessing import MinMaxScaler\n",
    "scaler=MinMaxScaler()\n",
    "scaler.fit(X_train)\n",
    "X_scaled_train=scaler.transform(X_train)\n",
    "X_scaled_test=scaler.transform(X_test)\n",
    "\n",
    "from sklearn.linear_model import Lasso\n",
    "model=Lasso()"
   ]
  },
  {
   "cell_type": "code",
   "execution_count": 2,
   "metadata": {},
   "outputs": [
    {
     "name": "stdout",
     "output_type": "stream",
     "text": [
      "TrainSet Score : 0.5706920866967898\n",
      "TestSet Score: 0.5826093207813088\n"
     ]
    }
   ],
   "source": [
    "model.fit(X_scaled_train, y_train)\n",
    "pred_train=model.predict(X_scaled_train)\n",
    "pred_test=model.predict(X_scaled_test)\n",
    "print(f\"TrainSet Score : {model.score(X_scaled_train, y_train)}\\nTestSet Score: {model.score(X_scaled_test, y_test)}\")"
   ]
  },
  {
   "cell_type": "code",
   "execution_count": 3,
   "metadata": {},
   "outputs": [
    {
     "name": "stdout",
     "output_type": "stream",
     "text": [
      "TrainSet RMSE : 62536.77640491256\n",
      "TestSet RMSE : 61763.777131122835\n"
     ]
    }
   ],
   "source": [
    "# RMSE\n",
    "import numpy as np\n",
    "from sklearn.metrics import mean_squared_error\n",
    "RMSE_train=np.sqrt(mean_squared_error(y_train, pred_train))\n",
    "RMSE_test=np.sqrt(mean_squared_error(y_test, pred_test))\n",
    "print(f\"TrainSet RMSE : {RMSE_train}\\nTestSet RMSE : {RMSE_test}\")"
   ]
  },
  {
   "cell_type": "code",
   "execution_count": 5,
   "metadata": {},
   "outputs": [
    {
     "name": "stdout",
     "output_type": "stream",
     "text": [
      "Best Parameter :  {'alpha': 1}\n",
      "Best Score :  0.5702758905098521\n",
      "TestSet Score :  0.5826093207813088\n"
     ]
    }
   ],
   "source": [
    "# GridSearch\n",
    "from sklearn.model_selection import GridSearchCV\n",
    "grid_search=GridSearchCV(Lasso(),\n",
    "                        param_grid={'alpha':[0.00001, 0.0001, 0.001, 0.01, 0.5, 0.1, 1, 10, 100]},\n",
    "                        cv=5)\n",
    "grid_search.fit(X_scaled_train, y_train)\n",
    "\n",
    "print(\"Best Parameter : \",grid_search.best_params_)\n",
    "print(\"Best Score : \", grid_search.best_score_)\n",
    "print(\"TestSet Score : \", grid_search.score(X_scaled_test, y_test))"
   ]
  },
  {
   "cell_type": "code",
   "execution_count": 6,
   "metadata": {},
   "outputs": [
    {
     "name": "stdout",
     "output_type": "stream",
     "text": [
      "Best Parameter :  {'alpha': 1}\n",
      "Best Score :  0.5702758905098521\n",
      "TestSet Score :  0.5826093207813088\n"
     ]
    }
   ],
   "source": [
    "# RandomSearch\n",
    "from sklearn.model_selection import RandomizedSearchCV\n",
    "from scipy.stats import randint\n",
    "random_search=RandomizedSearchCV(Lasso(),\n",
    "                        param_distributions={'alpha':randint(low=0.00001, high=100)},\n",
    "                        cv=5,\n",
    "                        n_iter=100)\n",
    "random_search.fit(X_scaled_train, y_train)\n",
    "\n",
    "print(\"Best Parameter : \",random_search.best_params_)\n",
    "print(\"Best Score : \", random_search.best_score_)\n",
    "print(\"TestSet Score : \", random_search.score(X_scaled_test, y_test))"
   ]
  },
  {
   "cell_type": "code",
   "execution_count": null,
   "metadata": {},
   "outputs": [],
   "source": []
  }
 ],
 "metadata": {
  "kernelspec": {
   "display_name": "Python 3",
   "language": "python",
   "name": "python3"
  },
  "language_info": {
   "codemirror_mode": {
    "name": "ipython",
    "version": 3
   },
   "file_extension": ".py",
   "mimetype": "text/x-python",
   "name": "python",
   "nbconvert_exporter": "python",
   "pygments_lexer": "ipython3",
   "version": "3.7.3"
  }
 },
 "nbformat": 4,
 "nbformat_minor": 2
}
