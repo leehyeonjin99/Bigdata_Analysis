{
 "cells": [
  {
   "attachments": {
    "image.png": {
     "image/png": "[encoded data removed]"
    }
   },
   "cell_type": "markdown",
   "metadata": {},
   "source": [
    "# 9.1 핵심 개념\n",
    "- 학습 데이터에 대해 여러 개의 부트스트랩 데이터를 생성하고 각 부트스트랩 데이터에 하나 혹은 여러 알고리즘을 학습시킨 후 산출된 결과 중 투표 방식에 의해 최종 결과 선정\n",
    "- 부트스트랩 : 단순 복원추출 \n",
    "![image.png](attachment:image.png)"
   ]
  },
  {
   "cell_type": "markdown",
   "metadata": {},
   "source": [
    "# 9.3 분석코드\n",
    "## Part1. 분류"
   ]
  },
  {
   "cell_type": "code",
   "execution_count": 2,
   "metadata": {},
   "outputs": [
    {
     "name": "stdout",
     "output_type": "stream",
     "text": [
      "TrainSet Score :  0.982421875\n",
      "TestSet Score :  0.9590643274853801\n"
     ]
    }
   ],
   "source": [
    "import warnings\n",
    "warnings.filterwarnings('ignore')\n",
    "\n",
    "import pandas as pd\n",
    "data=pd.read_csv('../data/breast-cancer-wisconsin.csv', encoding='utf-8')\n",
    "\n",
    "X=data[data.columns[1:-1]]\n",
    "y=data[['Class']]\n",
    "\n",
    "from sklearn.model_selection import train_test_split\n",
    "X_train, X_test, y_train, y_test=train_test_split(X, y, stratify=y, random_state=42) \n",
    "\n",
    "from sklearn.preprocessing import MinMaxScaler\n",
    "scaler=MinMaxScaler()\n",
    "scaler.fit(X_train)\n",
    "X_scaled_train=scaler.transform(X_train)\n",
    "X_scaled_test=scaler.transform(X_test)\n",
    "\n",
    "from sklearn.svm import SVC\n",
    "from sklearn.ensemble import BaggingClassifier\n",
    "\n",
    "model=BaggingClassifier(SVC(), random_state=0)\n",
    "model.fit(X_scaled_train, y_train)\n",
    "\n",
    "pred_train=model.predict(X_scaled_train)\n",
    "pred_test=model.predict(X_scaled_test)\n",
    "\n",
    "print('TrainSet Score : ',model.score(X_scaled_train, y_train))\n",
    "print('TestSet Score : ',model.score(X_scaled_test, y_test))"
   ]
  },
  {
   "cell_type": "code",
   "execution_count": 4,
   "metadata": {},
   "outputs": [
    {
     "name": "stdout",
     "output_type": "stream",
     "text": [
      "훈련데이터 오차행렬 : \n",
      " [[329   4]\n",
      " [  5 174]]\n",
      "분류예측 레포트 : \n",
      "               precision    recall  f1-score   support\n",
      "\n",
      "           0       0.99      0.99      0.99       333\n",
      "           1       0.98      0.97      0.97       179\n",
      "\n",
      "    accuracy                           0.98       512\n",
      "   macro avg       0.98      0.98      0.98       512\n",
      "weighted avg       0.98      0.98      0.98       512\n",
      "\n"
     ]
    }
   ],
   "source": [
    "from sklearn.metrics import confusion_matrix, classification_report\n",
    "\n",
    "confusion_train=confusion_matrix(y_train, pred_train)\n",
    "print('훈련데이터 오차행렬 : \\n', confusion_train)\n",
    "\n",
    "cfreport_train=classification_report(y_train, pred_train)\n",
    "print('분류예측 레포트 : \\n',cfreport_train)"
   ]
  },
  {
   "cell_type": "code",
   "execution_count": 6,
   "metadata": {},
   "outputs": [
    {
     "name": "stdout",
     "output_type": "stream",
     "text": [
      "테스트데이터 오차행렬 : \n",
      " [[106   5]\n",
      " [  2  58]]\n",
      "분류예측 레포트 : \n",
      "               precision    recall  f1-score   support\n",
      "\n",
      "           0       0.98      0.95      0.97       111\n",
      "           1       0.92      0.97      0.94        60\n",
      "\n",
      "    accuracy                           0.96       171\n",
      "   macro avg       0.95      0.96      0.96       171\n",
      "weighted avg       0.96      0.96      0.96       171\n",
      "\n"
     ]
    }
   ],
   "source": [
    "confusion_test=confusion_matrix(y_test, pred_test)\n",
    "print('테스트데이터 오차행렬 : \\n', confusion_test)\n",
    "\n",
    "cfreport_test=classification_report(y_test, pred_test)\n",
    "print('분류예측 레포트 : \\n',cfreport_test)"
   ]
  },
  {
   "cell_type": "markdown",
   "metadata": {},
   "source": [
    "## Part2. 회귀"
   ]
  },
  {
   "cell_type": "code",
   "execution_count": 8,
   "metadata": {},
   "outputs": [
    {
     "name": "stdout",
     "output_type": "stream",
     "text": [
      "TrainSet Score :  0.7316018746553036\n",
      "TestSet Score :  0.6024268009648992\n"
     ]
    }
   ],
   "source": [
    "data2=pd.read_csv(\"../data/house_price.csv\", encoding='utf-8')\n",
    "\n",
    "X=data2[data2.columns[:-1]]\n",
    "y=data2[['house_value']]\n",
    "\n",
    "X_train, X_test, y_train, y_test=train_test_split(X, y, random_state=42)\n",
    "\n",
    "scaler=MinMaxScaler()\n",
    "scaler.fit(X_train)\n",
    "X_scaled_train=scaler.transform(X_train)\n",
    "X_scaled_test=scaler.transform(X_test)\n",
    "\n",
    "from sklearn.neighbors import KNeighborsRegressor\n",
    "from sklearn.ensemble import BaggingRegressor\n",
    "model=BaggingRegressor(KNeighborsRegressor(), random_state=0)\n",
    "model.fit(X_scaled_train, y_train)\n",
    "\n",
    "pred_train=model.predict(X_scaled_train)\n",
    "pred_test=model.predict(X_scaled_test)\n",
    "\n",
    "print('TrainSet Score : ',model.score(X_scaled_train, y_train))\n",
    "print('TestSet Score : ',model.score(X_scaled_test, y_test))"
   ]
  },
  {
   "cell_type": "code",
   "execution_count": 10,
   "metadata": {},
   "outputs": [
    {
     "name": "stdout",
     "output_type": "stream",
     "text": [
      "훈련데이터 RMSE :  49447.095110855626\n",
      "테스트데이터 RMSE :  60279.691922827755\n"
     ]
    }
   ],
   "source": [
    "#RMSE\n",
    "from sklearn.metrics import mean_squared_error\n",
    "import numpy as np\n",
    "\n",
    "RMSE_train=np.sqrt(mean_squared_error(y_train, pred_train))\n",
    "RMSE_test=np.sqrt(mean_squared_error(y_test, pred_test))\n",
    "\n",
    "print(\"훈련데이터 RMSE : \",RMSE_train)\n",
    "print(\"테스트데이터 RMSE : \",RMSE_test)"
   ]
  },
  {
   "cell_type": "code",
   "execution_count": null,
   "metadata": {},
   "outputs": [],
   "source": []
  }
 ],
 "metadata": {
  "kernelspec": {
   "display_name": "Python 3",
   "language": "python",
   "name": "python3"
  },
  "language_info": {
   "codemirror_mode": {
    "name": "ipython",
    "version": 3
   },
   "file_extension": ".py",
   "mimetype": "text/x-python",
   "name": "python",
   "nbconvert_exporter": "python",
   "pygments_lexer": "ipython3",
   "version": "3.7.3"
  }
 },
 "nbformat": 4,
 "nbformat_minor": 2
}
